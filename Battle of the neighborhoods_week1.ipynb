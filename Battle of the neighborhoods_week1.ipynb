{
    "nbformat_minor": 1, 
    "cells": [
        {
            "source": "# Introduction", 
            "cell_type": "markdown", 
            "metadata": {
                "collapsed": true
            }
        }, 
        {
            "source": "London is the capital and largest city of England and the United Kingdom, with the largest municipal population in the European Union,London is considered to be one of the world's most important global cities and has been termed the world's most powerful, most desirable, most influential, most visited, most expensive,innovative,sustainable, most investment friendly, most popular for work,and the most vegetarian-friendlycity in the world, thus we want to study the idea of starting a business", 
            "cell_type": "markdown", 
            "metadata": {}
        }, 
        {
            "source": "# Discussion and Background of the Business Problem:", 
            "cell_type": "markdown", 
            "metadata": {}
        }, 
        {
            "source": "### Problem Statement:prospects of a restaurant in a london:\nOpening a new restaurant can be intimidating hard. There are so many things and aspects to consider, for example: from choosing the right location to finding financing to selecting the right name,and the category of food served, in additon to the group of people it will target,in this notbook will discuss the trending kind of venues in each nieghborhood of london city and comparing these nieghborhoods to together in terms of venues popularity \nWe will go through each step of this project and address them separately\nI will first outline the initial data preparation and describe future steps to start the battle of neighborhoods in London\n### targeted audience:\n<li> Business personnel who wants to invest or open a restaurant in London. This analysis will be a comprehensive guide to start or expand restaurants</li>\n<li> Data Scientists, who want to implement some of the most used exploratory Data Analysis techniques to obtain necessary data, analyze it, and, finally be able to tell a story out of it.</li>", 
            "cell_type": "markdown", 
            "metadata": {}
        }, 
        {
            "source": "## Data", 
            "cell_type": "markdown", 
            "metadata": {}
        }, 
        {
            "source": "For this project we need the following data :\n\n<li> Data containing the Neighborhoods,Boroughs,and Post Codes of london\n    <ul>Data source : https://en.wikipedia.org/wiki/List_of_areas_of_London\n        the idea to scrape the table using Beautiful soup and writing into a csv file.</ul>\n    </li>\n            \n<li>Dataset of the lantitud and longitude of each neighborhood \n    <ul> Data source: obtaining the data using geolocator\n   Data source: https://www.freemaptools.com/download/outcode-postcodes/postcode-outcodes.csv .</ul>\n    </li>\n<li>Data containg the venues of each neighborhood:\n   <ul> Data source : Foursquer API calls\n    Description : By using this api we will get all the venues in each neighborhood. We can filter these venues to get the common resturants and venues types. </ul>\n       \n              \n        ", 
            "cell_type": "markdown", 
            "metadata": {}
        }
    ], 
    "nbformat": 4, 
    "metadata": {
        "kernelspec": {
            "display_name": "Python 3.6", 
            "name": "python3", 
            "language": "python"
        }, 
        "language_info": {
            "mimetype": "text/x-python", 
            "nbconvert_exporter": "python", 
            "version": "3.6.8", 
            "name": "python", 
            "pygments_lexer": "ipython3", 
            "file_extension": ".py", 
            "codemirror_mode": {
                "version": 3, 
                "name": "ipython"
            }
        }
    }
}